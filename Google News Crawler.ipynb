{
 "cells": [
  {
   "cell_type": "markdown",
   "metadata": {},
   "source": [
    "# Google News Crawler\n",
    "\n",
    "This script crawls Main and Sub News from : \n",
    "https://news.google.com/topics/CAAqJggKIiBDQkFTRWdvSUwyMHZNRGx6TVdZU0FtVnVHZ0pKVGlnQVAB?hl=en-IN&gl=IN&ceid=IN%3Aen"
   ]
  },
  {
   "cell_type": "markdown",
   "metadata": {},
   "source": [
    "Importing all the dependencies"
   ]
  },
  {
   "cell_type": "code",
   "execution_count": 1,
   "metadata": {},
   "outputs": [
    {
     "name": "stderr",
     "output_type": "stream",
     "text": [
      "[nltk_data] Downloading package punkt to /home/gopal/nltk_data...\n",
      "[nltk_data]   Package punkt is already up-to-date!\n"
     ]
    }
   ],
   "source": [
    "import requests\n",
    "from bs4 import BeautifulSoup\n",
    "from multiprocessing import Pool\n",
    "import time\n",
    "import pandas as pd\n",
    "from newspaper import Article\n",
    "import nltk\n",
    "from IPython.display import display, HTML\n",
    "import warnings\n",
    "nltk.download('punkt')\n",
    "warnings.filterwarnings(\"ignore\") \n",
    "pd.options.display.max_colwidth = 2000"
   ]
  },
  {
   "cell_type": "markdown",
   "metadata": {},
   "source": [
    "Class to handle all the methods related to News"
   ]
  },
  {
   "cell_type": "code",
   "execution_count": 2,
   "metadata": {},
   "outputs": [],
   "source": [
    "class News():\n",
    "    def __init__(self):\n",
    "        self.base_url = \"https://news.google.com\"\n",
    "\n",
    "        \n",
    "    # Method for getting HTML content\n",
    "    # Returns BeautifulSoup object\n",
    "    \n",
    "    def bs_html(self, url):\n",
    "        response = requests.get(url)\n",
    "        \n",
    "        # HTML of the page\n",
    "        html = response.text\n",
    "        # BeautifulSoup object of the HTML\n",
    "        bs_html = BeautifulSoup(html, features = 'lxml')\n",
    "\n",
    "        return bs_html\n",
    "   \n",
    "    # Get article data using newspaper library\n",
    "    \n",
    "    def get_article_data(self, url):\n",
    "        \n",
    "        # en For English    \n",
    "        article = Article(url, language=\"en\")\n",
    "        try:\n",
    "            article.download() \n",
    "            article.parse() \n",
    "            article.nlp() \n",
    "\n",
    "            article_data = list() \n",
    "\n",
    "            article_data.append(article.title) \n",
    "            article_data.append(article.summary)       \n",
    "            article_data.append(article.publish_date)\n",
    "            article_data.append(url)\n",
    "        except:\n",
    "            \n",
    "            article_data = None\n",
    "            \n",
    "        return article_data\n",
    "    \n",
    "    # For getting all the aricles data using multiproccessing for better speed\n",
    "    \n",
    "    def multi_proccess_article_data(self, article_urls):\n",
    "        \n",
    "        n_articles = len(article_urls)\n",
    "\n",
    "        with Pool(processes=20) as pool:\n",
    "            all_articles_data = pool.map_async(self.get_article_data, article_urls, chunksize = 1)\n",
    "            \n",
    "            while not all_articles_data.ready():\n",
    "                all_articles_data.wait(timeout=1)\n",
    "        \n",
    "        \n",
    "        return all_articles_data.get()\n",
    "    \n",
    "    # Return all the URLs from given BeautifulSoup object\n",
    "    \n",
    "    def get_urls(self, list_news):\n",
    "        \n",
    "        # Collects all the elements with 'a' tag\n",
    "        list_news = [news.find('a') for news in list_news]\n",
    "\n",
    "        news_urls = list()\n",
    "\n",
    "        for news in list_news:\n",
    "            \n",
    "            # Extracting 'href' attribute\n",
    "            sub_url = news['href']\n",
    "            \n",
    "            # Concatenating base and parital urls to make the URL complete\n",
    "            n_url = self.base_url+sub_url.replace('.','')\n",
    "\n",
    "            news_urls.append(n_url)\n",
    "        \n",
    "\n",
    "        return (news_urls)\n",
    "    def display_table(self, df, header):\n",
    "        \n",
    "        # Setting the indcies 1 to the length of the DatFrame\n",
    "        df.index = range(1, len(df)+1)\n",
    "        \n",
    "        # Setting the url with 'a' for better convention\n",
    "        df['URL'] = df['URL'].apply(lambda x: '<a href=\"'+x+'\">link</a>')\n",
    "        \n",
    "        # Converting the DataFrame into HTML and adding the title\n",
    "        html_table = '<h1 align = \"Center\">{}</h1>'.format(header)+df.to_html(escape=False)\n",
    "        \n",
    "        # For shifting the header to the left\n",
    "        html_table =html_table.replace('<th>','<th style=\"text-align: left;\">')\n",
    "        # FOr shifting the other strings to the left\n",
    "        html_table =html_table.replace('<td>','<td style=\"text-align: left;\">')\n",
    "        \n",
    "        # Displays the html by replacing '\\\\n' by '<br>' for new line\n",
    "        display(HTML(html_table.replace('\\\\n','<br>')))"
   ]
  },
  {
   "cell_type": "code",
   "execution_count": 3,
   "metadata": {},
   "outputs": [],
   "source": [
    "# Url of the main news page\n",
    "url = \"https://news.google.com/topics/CAAqJggKIiBDQkFTRWdvSUwyMHZNRGx6TVdZU0FtVnVHZ0pKVGlnQVAB?hl=en-IN&gl=IN&ceid=IN%3Aen\"\n",
    "\n",
    "# Creating a News object\n",
    "news_obj = News()\n",
    "\n",
    "# getting the BeautiffulSoup object of the main news' page HTML\n",
    "html = news_obj.bs_html(url)"
   ]
  },
  {
   "cell_type": "code",
   "execution_count": 4,
   "metadata": {},
   "outputs": [],
   "source": [
    "# Extracting the main news URLS\n",
    "main_news = html.find_all('h3',class_ = 'ipQwMb ekueJc gEATFF RD0gLb')\n",
    "main_news_urls = news_obj.get_urls(main_news)\n",
    "\n",
    "# Extracting the sub news URLs\n",
    "sub_news = html.find_all('div',class_ =\"xrnccd F6Welf R7GTQ keNKEd j7vNaf\")\n",
    "sub_news = [news.find('h4') for news in sub_news]\n",
    "sub_news_urls = news_obj.get_urls(sub_news)"
   ]
  },
  {
   "cell_type": "markdown",
   "metadata": {},
   "source": [
    "Used multiproccessing for faster extraction"
   ]
  },
  {
   "cell_type": "code",
   "execution_count": 5,
   "metadata": {},
   "outputs": [
    {
     "name": "stdout",
     "output_type": "stream",
     "text": [
      "CPU times: user 81.8 ms, sys: 191 ms, total: 273 ms\n",
      "Wall time: 15.4 s\n"
     ]
    }
   ],
   "source": [
    "%%time\n",
    "main_news_data = news_obj.multi_proccess_article_data(main_news_urls)\n",
    "sub_news_data = news_obj.multi_proccess_article_data(sub_news_urls)\n",
    "\n",
    "# Columns for the DataFrame of Articles data\n",
    "columns = ['Title','Summary', 'Published Date', 'URL']"
   ]
  },
  {
   "cell_type": "markdown",
   "metadata": {},
   "source": [
    "For displaying the Main news aricles "
   ]
  },
  {
   "cell_type": "code",
   "execution_count": 6,
   "metadata": {},
   "outputs": [
    {
     "data": {
      "text/html": [
       "<h1 align = \"Center\">Main News</h1><table border=\"1\" class=\"dataframe\">\n",
       "  <thead>\n",
       "    <tr style=\"text-align: right;\">\n",
       "      <th style=\"text-align: left;\"></th>\n",
       "      <th style=\"text-align: left;\">Title</th>\n",
       "      <th style=\"text-align: left;\">Summary</th>\n",
       "      <th style=\"text-align: left;\">Published Date</th>\n",
       "      <th style=\"text-align: left;\">URL</th>\n",
       "    </tr>\n",
       "  </thead>\n",
       "  <tbody>\n",
       "    <tr>\n",
       "      <th style=\"text-align: left;\">1</th>\n",
       "      <td style=\"text-align: left;\">Facebook Eyeing Stake In Reliance Jio, FT Reports</td>\n",
       "      <td style=\"text-align: left;\">BloombergBloomberg | Quint is a multiplatform, Indian business and financial news company.<br>We combine Bloomberg’s global leadership in business and financial news and data, with Quintillion Media’s deep expertise in the Indian market and digital news delivery, to provide high quality business news, insights and trends for India’s sophisticated audiences.</td>\n",
       "      <td style=\"text-align: left;\">None</td>\n",
       "      <td style=\"text-align: left;\"><a href=\"https://news.google.com/articles/CAIiELmfctrpa4HnOe0WJbnzh5gqGQgEKhAIACoHCAowqvSQCzD0nKUDMM3htQY?hl=en-IN&gl=IN&ceid=IN%3Aen\">link</a></td>\n",
       "    </tr>\n",
       "    <tr>\n",
       "      <th style=\"text-align: left;\">2</th>\n",
       "      <td style=\"text-align: left;\">Taking Stock: FM comments soothe nerves; Nifty off high but holds 7,800</td>\n",
       "      <td style=\"text-align: left;\">Stocks and Sectors:Sectorally, the S&P BSE IT index rose 6.9 percent, followed by the BSE Energy index rose 4.2 percent, and the S&P FMCG index gained 3.1 percent.<br>On the losing front, the S&P BSE Realty index fell 2.01 percent, followed by the S&P BSE Capital Goods index that fell 0.73 percent, and the Public Sector was down 0.23 percent.<br>On the broader markets front, the S&P BSE Midcap index rose 1.5 percent, while the S&P BSE Smallcap index rose 0.05 percent.<br>IndusInd Bank: The share price of IndusInd Bank fell over 7 percent after the bank's MD & CEO Romesh Sobti retired.<br>Dr Reddy’s Lab: Dr Reddy’s Laboratories share price rose 3 percent on March 24 after the company said it is going to consider fundraising.</td>\n",
       "      <td style=\"text-align: left;\">None</td>\n",
       "      <td style=\"text-align: left;\"><a href=\"https://news.google.com/articles/CBMihAFodHRwczovL3d3dy5tb25leWNvbnRyb2wuY29tL25ld3MvYnVzaW5lc3MvbWFya2V0cy90YWtpbmctc3RvY2stZm0tY29tbWVudHMtc29vdGhlLW5lcnZlcy1uaWZ0eS1vZmYtaGlnaC1idXQtaG9sZHMtNzgwMC01MDY3OTYxLmh0bWzSAYgBaHR0cHM6Ly93d3cubW9uZXljb250cm9sLmNvbS9uZXdzL2J1c2luZXNzL21hcmtldHMvdGFraW5nLXN0b2NrLWZtLWNvbW1lbnRzLXNvb3RoZS1uZXJ2ZXMtbmlmdHktb2ZmLWhpZ2gtYnV0LWhvbGRzLTc4MDAtNTA2Nzk2MS5odG1sL2FtcA?hl=en-IN&gl=IN&ceid=IN%3Aen\">link</a></td>\n",
       "    </tr>\n",
       "    <tr>\n",
       "      <th style=\"text-align: left;\">3</th>\n",
       "      <td style=\"text-align: left;\">View: India's virus-stricken economy is in a dire need of a vaccine</td>\n",
       "      <td style=\"text-align: left;\">The latter will have a long-term effect on the financial and mental health for generations to come.<br>The next 90 days will dictate whether or not the US heads toward a depression-like era where unemployment rose towards 25%-plus.<br>Venture capitalists (VCs) will say they are open for business, but they are the most risk-averse class in town.<br>Expect investors to push for companies to shut down and return capital.Startup and small business owners should check their business insurance policies and see if they have any ‘business interruption insurance’.<br>It will define how India can come out as a warrior by taking on both viral and financial infections head on.P.S.</td>\n",
       "      <td style=\"text-align: left;\">2020-03-24 23:00:00+00:00</td>\n",
       "      <td style=\"text-align: left;\"><a href=\"https://news.google.com/articles/CAIiECYKtIaPwgJ_lys9xviNmyUqGQgEKhAIACoHCAow2pqGCzD954MDMPTVigY?hl=en-IN&gl=IN&ceid=IN%3Aen\">link</a></td>\n",
       "    </tr>\n",
       "    <tr>\n",
       "      <th style=\"text-align: left;\">4</th>\n",
       "      <td style=\"text-align: left;\">Kishore Biyani in a spot as lenders invoke shares amid stock crash, lockdown</td>\n",
       "      <td style=\"text-align: left;\">On Tuesday, group company Future Retail said that certain lenders who held NCDs through IDBI Trusteeship Services Ltd have invoked promoter pledged shares worth 8%.<br>“Despite monetization of investments across various Group entities, the total Group debt has increased as on 31 December 2019, as against 31 March 2019.<br>The money from the sale proceeds is to be used primarily to repay debts of Future Group, said the first person.<br>Future group was caught in a debt trap when India’s economic growth started slowing down in 2010.<br>That episode saw Biyani sell his apparel store business Pantaloons to Aditya Birla group and his financial services business Future Capital to Warburg Pincus.</td>\n",
       "      <td style=\"text-align: left;\">2020-03-25 00:26:21+05:30</td>\n",
       "      <td style=\"text-align: left;\"><a href=\"https://news.google.com/articles/CAIiECdSc_Pcce2wTJuBk8keZ5MqFggEKg4IACoGCAowxLQ_MNevCDCkoh8?hl=en-IN&gl=IN&ceid=IN%3Aen\">link</a></td>\n",
       "    </tr>\n",
       "    <tr>\n",
       "      <th style=\"text-align: left;\">5</th>\n",
       "      <td style=\"text-align: left;\">Stock markets to remain open despite nationwide lockdown</td>\n",
       "      <td style=\"text-align: left;\">businessUpdated: Mar 24, 2020 22:16 ISTStock markets in India will remain open despite the 21-day nationwide lockdown announced by Prime Minister Narendra Modi on Tuesday in the wake of the coronavirus pandemic.<br>Ashishkumar Chauhan, the chief executive officer of S&P BSE Sensex, confirmed that the exchange will remain open.<br>A government notification said all capital and debt market services notified by markets regulator Securities and Exchange Board of India (SEBI) would be exempted from the lockdown.<br>The NSE Nifty 50 index closed 2.51% higher at 7,801.05, while the Sensex settled 2.67% higher at 26,674.34.<br>After Nirmala Sitharaman promised an economic package and an extension of some tax filing deadlines, both the indexes rose slightly over 5%.</td>\n",
       "      <td style=\"text-align: left;\">2020-03-24 22:12:04+05:30</td>\n",
       "      <td style=\"text-align: left;\"><a href=\"https://news.google.com/articles/CAIiEMktSbbhL9rVJ8VAqJ5GVKwqFggEKg4IACoGCAoww7k_MMevCDCm4QE?hl=en-IN&gl=IN&ceid=IN%3Aen\">link</a></td>\n",
       "    </tr>\n",
       "  </tbody>\n",
       "</table>"
      ],
      "text/plain": [
       "<IPython.core.display.HTML object>"
      ]
     },
     "metadata": {},
     "output_type": "display_data"
    }
   ],
   "source": [
    "# Removing if there is None type data\n",
    "main_news_data = [data for data in main_news_data if data]\n",
    "\n",
    "# COnverting into pandas DataFrame with above defined columns\n",
    "df_main_news = pd.DataFrame(main_news_data, columns = columns)\n",
    "\n",
    "# Displays Main News\n",
    "news_obj.display_table(df_main_news.head(), header = \"Main News\")"
   ]
  },
  {
   "cell_type": "code",
   "execution_count": 7,
   "metadata": {},
   "outputs": [
    {
     "data": {
      "text/html": [
       "<h1 align = \"Center\">Sub News</h1><table border=\"1\" class=\"dataframe\">\n",
       "  <thead>\n",
       "    <tr style=\"text-align: right;\">\n",
       "      <th style=\"text-align: left;\"></th>\n",
       "      <th style=\"text-align: left;\">Title</th>\n",
       "      <th style=\"text-align: left;\">Summary</th>\n",
       "      <th style=\"text-align: left;\">Published Date</th>\n",
       "      <th style=\"text-align: left;\">URL</th>\n",
       "    </tr>\n",
       "  </thead>\n",
       "  <tbody>\n",
       "    <tr>\n",
       "      <th style=\"text-align: left;\">1</th>\n",
       "      <td style=\"text-align: left;\">Reliance to pay twice to those employees who earn below ₹ 30,000</td>\n",
       "      <td style=\"text-align: left;\">Reliance Industries Limited (RIL) announced a slew of measures to fight against deadly coronavirus infection spread across the country.<br>Those who earn below ₹30,000 per month, will get their salaries twice a month in the wake of coronavirus outbreak.<br>\"RIL has deployed the combined strengths of Reliance Foundation, Reliance Retail, Jio, Reliance Life Sciences, Reliance Industries, and all the 6,00,000 members of the Reliance Family on this action plan against COVID-19,\" the company said.<br>Reliance Industries also extended the work-from-home platform to most of its employees except those who handle critical roles in maintaining Reliance Jio network.<br>Reliance Retail across the country will remain functional during the lockdown.</td>\n",
       "      <td style=\"text-align: left;\">2020-03-24 15:51:49+05:30</td>\n",
       "      <td style=\"text-align: left;\"><a href=\"https://news.google.com/articles/CBMieWh0dHBzOi8vd3d3LmxpdmVtaW50LmNvbS9uZXdzL2luZGlhL3JlbGlhbmNlLXRvLXBheS10d2ljZS10by10aG9zZS1lbXBsb3llZXMtd2hvLWVhcm4tYmVsb3ctcnMtMzAtMDAwLTExNTg1MDMzODI5OTkzLmh0bWzSAX1odHRwczovL3d3dy5saXZlbWludC5jb20vbmV3cy9pbmRpYS9yZWxpYW5jZS10by1wYXktdHdpY2UtdG8tdGhvc2UtZW1wbG95ZWVzLXdoby1lYXJuLWJlbG93LXJzLTMwLTAwMC9hbXAtMTE1ODUwMzM4Mjk5OTMuaHRtbA?hl=en-IN&gl=IN&ceid=IN%3Aen\">link</a></td>\n",
       "    </tr>\n",
       "    <tr>\n",
       "      <th style=\"text-align: left;\">2</th>\n",
       "      <td style=\"text-align: left;\">Sensex, Nifty hold gains as investors pin hope to govt's fiscal package</td>\n",
       "      <td style=\"text-align: left;\">Sensex, Nifty end in the greenIndian equity markets managed to hold decent gains, after rising as much as 5% intraday.<br>Key indices were volatile in opening trade, but traded higher later in the day buoyed by the rise in IT and fast moving consumer goods (FMCG) stocks.<br>The markets rose the most when finance minister Nirmala Sitharaman said on Twitter that the government plans to soon announce a fiscal stimulus package.<br>The Sensex rose 692.79 points, or 2.67%, to end today's session at 26,674.03, while the Nifty 50 index settled 190.80 points, or 2.51%, higher at 7,801.05.<br>Shares of Infosys led gains on Nifty, followed by Adani Ports, Britannia, Bajaj Finance and Maruti Suzuki, while Mahindra & Mahindra, Grasim Industries, IndusInd Bank, Power Grid Corporation and Bharti Infratel were the biggest laggards in today's session.</td>\n",
       "      <td style=\"text-align: left;\">2020-03-24 08:32:22+05:30</td>\n",
       "      <td style=\"text-align: left;\"><a href=\"https://news.google.com/articles/CBMihQFodHRwczovL3d3dy5saXZlbWludC5jb20vbWFya2V0L2xpdmUtYmxvZy9saXZlLWJsb2ctc2Vuc2V4LW5pZnR5LWxpdmUtdG9kYXktMjQtMDMtMjAyMC1uaWZ0eS1uc2UtYnNlLW5ld3MtdXBkYXRlcy0xMTU4NTAxODIxNjMxOS5odG1s0gGJAWh0dHBzOi8vd3d3LmxpdmVtaW50LmNvbS9tYXJrZXQvbGl2ZS1ibG9nL2xpdmUtYmxvZy1zZW5zZXgtbmlmdHktbGl2ZS10b2RheS0yNC0wMy0yMDIwLW5pZnR5LW5zZS1ic2UtbmV3cy11cGRhdGVzL2FtcC0xMTU4NTAxODIxNjMxOS5odG1s?hl=en-IN&gl=IN&ceid=IN%3Aen\">link</a></td>\n",
       "    </tr>\n",
       "    <tr>\n",
       "      <th style=\"text-align: left;\">3</th>\n",
       "      <td style=\"text-align: left;\">Nation under lockdown for 21 days, but stock market will stay open</td>\n",
       "      <td style=\"text-align: left;\">Prime Minister Narendra Modi on March 24 announced a lockdown in the entire country starting midnight from Tuesday for the next 21 days, but stock market operations will continue, as usual, Ashish Chauhan, CEO, BSE said in a tweet.<br>In another tweet, he said the daily operations of BSE will continue as usual putting speculation to rest on whether the market will function during the lockdown.<br>That's why the PM said, if we don't do this 21-day lockdown, we will go back to 21 years.<br>Giving assurance to the market, FM assured investors and market participants said that the government is closely monitoring the situation.<br>We have provided all required digital tools to our employees so they can continue working seamlessly even from home,” he said.</td>\n",
       "      <td style=\"text-align: left;\">None</td>\n",
       "      <td style=\"text-align: left;\"><a href=\"https://news.google.com/articles/CBMigQFodHRwczovL3d3dy5tb25leWNvbnRyb2wuY29tL25ld3MvYnVzaW5lc3MvbWFya2V0cy9uYXRpb24tdW5kZXItbG9ja2Rvd24tZm9yLTIxLWRheXMtYnV0LXN0b2NrLW1hcmtldC13aWxsLXN0YXktb3Blbi01MDY5NDMxLmh0bWzSAYUBaHR0cHM6Ly93d3cubW9uZXljb250cm9sLmNvbS9uZXdzL2J1c2luZXNzL21hcmtldHMvbmF0aW9uLXVuZGVyLWxvY2tkb3duLWZvci0yMS1kYXlzLWJ1dC1zdG9jay1tYXJrZXQtd2lsbC1zdGF5LW9wZW4tNTA2OTQzMS5odG1sL2FtcA?hl=en-IN&gl=IN&ceid=IN%3Aen\">link</a></td>\n",
       "    </tr>\n",
       "    <tr>\n",
       "      <th style=\"text-align: left;\">4</th>\n",
       "      <td style=\"text-align: left;\">Gold prices today jump ₹ 600 per 10 gram, silver rates surge about ₹ 2,000</td>\n",
       "      <td style=\"text-align: left;\">Gold prices in India rose sharply today tracking an uptick in global rates after US Federal Reserve launched unlimited quantitative easing.<br>On MCX, gold futures were up 1.5% or about ₹600 per 10 gram to ₹41,780, extending their ₹700 gain of the previous session.<br>Silver futures on MCX rebounded 5% or about ₹2,000 per kg to ₹39,861 per kg, extending their 6% gain of the previous session.<br>Gold prices in India have seen a big swing this month, hitting a record high of about ₹45,000 per 10 gram and thereafter correcting to about ₹39,500 levels.<br>Spot gold climbed 2% to $1,583.53 per ounce after rising 4% in the previous session.</td>\n",
       "      <td style=\"text-align: left;\">2020-03-24 09:23:37+05:30</td>\n",
       "      <td style=\"text-align: left;\"><a href=\"https://news.google.com/articles/CBMifmh0dHBzOi8vd3d3LmxpdmVtaW50LmNvbS9tYXJrZXQvY29tbW9kaXRpZXMvZ29sZC1wcmljZXMtanVtcC1ycy0xLTEwMC1wZXItMTAtZ3JhbS1pbi0yLWRheXMtYWZ0ZXItYmlnLWZhbGwtMTE1ODUwMTcyOTg1NTcuaHRtbNIBggFodHRwczovL3d3dy5saXZlbWludC5jb20vbWFya2V0L2NvbW1vZGl0aWVzL2dvbGQtcHJpY2VzLWp1bXAtcnMtMS0xMDAtcGVyLTEwLWdyYW0taW4tMi1kYXlzLWFmdGVyLWJpZy1mYWxsL2FtcC0xMTU4NTAxNzI5ODU1Ny5odG1s?hl=en-IN&gl=IN&ceid=IN%3Aen\">link</a></td>\n",
       "    </tr>\n",
       "    <tr>\n",
       "      <th style=\"text-align: left;\">5</th>\n",
       "      <td style=\"text-align: left;\">Infosys Shares Jump Nearly 13 Percent as US SEC Concludes Probe in Whistleblower Case</td>\n",
       "      <td style=\"text-align: left;\">The company's scrip zoomed 12.69 per cent to close at Rs 593.55 on the BSE.<br>On the National Stock Exchange (NSE), it climbed 12 per cent to close at Rs 589.80.<br>In terms of traded volume, 6.29 lakh shares were traded on the BSE and over 2 crore shares on the NSE during the day.<br>The company's market valuation zoomed Rs 28,489.15 crore to Rs 2,52,786.15 crore on the BSE.<br>In a regulatory filing on Tuesday, Infosys said it has received a notification from the SEC stating that its investigation has concluded.</td>\n",
       "      <td style=\"text-align: left;\">2020-03-24 19:03:33+05:30</td>\n",
       "      <td style=\"text-align: left;\"><a href=\"https://news.google.com/articles/CBMihwFodHRwczovL3d3dy5uZXdzMTguY29tL25ld3MvYnVzaW5lc3MvaW5mb3N5cy1zaGFyZXMtanVtcC1uZWFybHktMTMtcGVyY2VudC1hcy11cy1zZWMtY29uY2x1ZGVzLXByb2JlLWluLXdoaXN0bGVibG93ZXItY2FzZS0yNTQ5NjMxLmh0bWzSAYsBaHR0cHM6Ly93d3cubmV3czE4LmNvbS9hbXAvbmV3cy9idXNpbmVzcy9pbmZvc3lzLXNoYXJlcy1qdW1wLW5lYXJseS0xMy1wZXJjZW50LWFzLXVzLXNlYy1jb25jbHVkZXMtcHJvYmUtaW4td2hpc3RsZWJsb3dlci1jYXNlLTI1NDk2MzEuaHRtbA?hl=en-IN&gl=IN&ceid=IN%3Aen\">link</a></td>\n",
       "    </tr>\n",
       "  </tbody>\n",
       "</table>"
      ],
      "text/plain": [
       "<IPython.core.display.HTML object>"
      ]
     },
     "metadata": {},
     "output_type": "display_data"
    }
   ],
   "source": [
    "# Remove the None type data\n",
    "sub_news_data = [data for data in sub_news_data if data]\n",
    "\n",
    "# Creating pandas DataFrame for Subnews aricles data\n",
    "df_sub_news = pd.DataFrame(sub_news_data, columns = columns)\n",
    "\n",
    "# Displays the Sub News articles data\n",
    "news_obj.display_table(df_sub_news.head(), header = \"Sub News\")"
   ]
  }
 ],
 "metadata": {
  "kernelspec": {
   "display_name": "Python 3",
   "language": "python",
   "name": "python3"
  },
  "language_info": {
   "codemirror_mode": {
    "name": "ipython",
    "version": 3
   },
   "file_extension": ".py",
   "mimetype": "text/x-python",
   "name": "python",
   "nbconvert_exporter": "python",
   "pygments_lexer": "ipython3",
   "version": "3.7.3"
  }
 },
 "nbformat": 4,
 "nbformat_minor": 2
}
