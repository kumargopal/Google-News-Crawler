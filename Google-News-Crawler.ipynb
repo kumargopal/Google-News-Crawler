{
 "cells": [
  {
   "cell_type": "markdown",
   "metadata": {},
   "source": [
    "# Google News Crawler\n",
    "\n",
    "### Crawls news from https://news.google.com/topics/CAAqJggKIiBDQkFTRWdvSUwyMHZNRGx6TVdZU0FtVnVHZ0pKVGlnQVAB?hl=en-IN&gl=IN&ceid=IN%3Aen"
   ]
  },
  {
   "cell_type": "markdown",
   "metadata": {},
   "source": [
    "Importing dependencies"
   ]
  },
  {
   "cell_type": "code",
   "execution_count": 1,
   "metadata": {},
   "outputs": [],
   "source": [
    "import urllib.request as request\n",
    "from bs4 import BeautifulSoup\n",
    "import pandas as pd"
   ]
  },
  {
   "cell_type": "markdown",
   "metadata": {},
   "source": [
    "Here, base_url is for concatenating to the partial url from google news page and making the url complete.\n",
    "And target_url is the url of the page, we are going to scrape"
   ]
  },
  {
   "cell_type": "code",
   "execution_count": 2,
   "metadata": {},
   "outputs": [],
   "source": [
    "base_url = 'https://news.google.com'\n",
    "target_url = \"https://news.google.com/topics/CAAqJggKIiBDQkFTRWdvSUwyMHZNRGx6TVdZU0FtVnVHZ0pKVGlnQVAB?hl=en-IN&gl=IN&ceid=IN%3Aen\""
   ]
  },
  {
   "cell_type": "markdown",
   "metadata": {},
   "source": [
    "Sending a get request to the server and checking the status code if that worked perfect\n",
    "### As the response code is 200, our request is successful"
   ]
  },
  {
   "cell_type": "code",
   "execution_count": 3,
   "metadata": {},
   "outputs": [
    {
     "name": "stdout",
     "output_type": "stream",
     "text": [
      "Response Code : 200\n"
     ]
    }
   ],
   "source": [
    "response = request.Request(target_url,headers={'User-Agent': 'Mozilla/5.0'})\n",
    "content_obj = request.urlopen(response)\n",
    "print('Response Code :',content_obj.getcode())"
   ]
  },
  {
   "cell_type": "markdown",
   "metadata": {},
   "source": [
    "Grabing HTML content from request object and let's have a look at the first 500 characters from HTML"
   ]
  },
  {
   "cell_type": "code",
   "execution_count": 4,
   "metadata": {},
   "outputs": [
    {
     "name": "stdout",
     "output_type": "stream",
     "text": [
      "b'<!doctype html><html lang=\"en\" dir=\"ltr\"><head><base href=\"https://news.google.com/\"><meta name=\"referrer\" content=\"origin\"><link rel=\"canonical\" href=\"https://news.google.com/topics/CAAqJggKIiBDQkFTRWdvSUwyMHZNRGx6TVdZU0FtVnVHZ0pKVGlnQVAB\"><meta name=\"viewport\" content=\"width=device-width,initial-scale=1,minimal-ui\"><meta name=\"apple-itunes-app\" content=\"app-id=459182288\"><meta name=\"google-site-verification\" content=\"AcBy5YFny2HQgVUCR18tO5YUTf6MpVlcJqGTd-a9-SI\"><meta name=\"mobile-web-app-capab'\n"
     ]
    }
   ],
   "source": [
    "html_content = content_obj.read()\n",
    "print(html_content[:500])"
   ]
  },
  {
   "cell_type": "markdown",
   "metadata": {},
   "source": [
    "Converting the HTML content to a BeautifulSoup object to parse elements"
   ]
  },
  {
   "cell_type": "code",
   "execution_count": 5,
   "metadata": {},
   "outputs": [],
   "source": [
    "soup_html_content = BeautifulSoup(html_content,features=\"lxml\")"
   ]
  },
  {
   "cell_type": "markdown",
   "metadata": {},
   "source": [
    "In the HTML layout of the page class 'Vlf0vb' from div 'c-wiz' is for containing all the news so let's just grab that, it will make parsing easier.\n",
    "And every h3 and h4 tag under class 'ipQwMb ekueJc gEATFF RD0gLb' is containg the information of all the main news and subnews so let's grab the elements"
   ]
  },
  {
   "cell_type": "code",
   "execution_count": 6,
   "metadata": {},
   "outputs": [],
   "source": [
    "news_wrapper = soup_html_content.find('c-wiz', class_ ='Vlf0vb')\n",
    "all_news = news_wrapper.find_all(['h3','h4'], class_ = 'ipQwMb ekueJc gEATFF RD0gLb') # h3 for main news and h4 for sub-news"
   ]
  },
  {
   "cell_type": "markdown",
   "metadata": {},
   "source": [
    "Lets iterate through all the news element and grab all the Headlines and URLs and store them into news_data list"
   ]
  },
  {
   "cell_type": "code",
   "execution_count": 7,
   "metadata": {},
   "outputs": [],
   "source": [
    "news_data = list() # An Empty list\n",
    "for news in all_news:\n",
    "    news_url_tag = news.find('a')\n",
    "    news_headline = news_url_tag.text\n",
    "    news_url = (base_url + news_url_tag.get('href').replace('.',''))\n",
    "    news_data.append([news_headline,news_url])"
   ]
  },
  {
   "cell_type": "markdown",
   "metadata": {},
   "source": [
    "Let's have a look at first 10 news from the page"
   ]
  },
  {
   "cell_type": "code",
   "execution_count": 8,
   "metadata": {},
   "outputs": [
    {
     "data": {
      "text/html": [
       "<div>\n",
       "<style scoped>\n",
       "    .dataframe tbody tr th:only-of-type {\n",
       "        vertical-align: middle;\n",
       "    }\n",
       "\n",
       "    .dataframe tbody tr th {\n",
       "        vertical-align: top;\n",
       "    }\n",
       "\n",
       "    .dataframe thead th {\n",
       "        text-align: right;\n",
       "    }\n",
       "</style>\n",
       "<table border=\"1\" class=\"dataframe\">\n",
       "  <thead>\n",
       "    <tr style=\"text-align: right;\">\n",
       "      <th></th>\n",
       "      <th>Headline</th>\n",
       "      <th>URL</th>\n",
       "    </tr>\n",
       "  </thead>\n",
       "  <tbody>\n",
       "    <tr>\n",
       "      <th>1</th>\n",
       "      <td>Government approves a package of Rs 13,760 cro...</td>\n",
       "      <td>https://news.google.com/articles/CAIiEE-KNB5sl...</td>\n",
       "    </tr>\n",
       "    <tr>\n",
       "      <th>2</th>\n",
       "      <td>Union Cabinet Approves Three Schemes To Enable...</td>\n",
       "      <td>https://news.google.com/articles/CAIiENxdjwu_0...</td>\n",
       "    </tr>\n",
       "    <tr>\n",
       "      <th>3</th>\n",
       "      <td>Cabinet approves schemes to boost electronics ...</td>\n",
       "      <td>https://news.google.com/articles/CAIiEKfHD6NvC...</td>\n",
       "    </tr>\n",
       "    <tr>\n",
       "      <th>4</th>\n",
       "      <td>Cabinet approves scheme to make India electron...</td>\n",
       "      <td>https://news.google.com/articles/CBMiemh0dHBzO...</td>\n",
       "    </tr>\n",
       "    <tr>\n",
       "      <th>5</th>\n",
       "      <td>Govt announces incentive for electronics to ma...</td>\n",
       "      <td>https://news.google.com/articles/CAIiEOGS0cGin...</td>\n",
       "    </tr>\n",
       "    <tr>\n",
       "      <th>6</th>\n",
       "      <td>Former Vistara CSCO Sanjiv Kapoor joins GoAir</td>\n",
       "      <td>https://news.google.com/articles/CAIiENmANklaX...</td>\n",
       "    </tr>\n",
       "    <tr>\n",
       "      <th>7</th>\n",
       "      <td>Coronavirus Impact: GoAir senior management to...</td>\n",
       "      <td>https://news.google.com/articles/CBMipwFodHRwc...</td>\n",
       "    </tr>\n",
       "    <tr>\n",
       "      <th>8</th>\n",
       "      <td>Coronavirus impact: GoAir announces 50% pay cu...</td>\n",
       "      <td>https://news.google.com/articles/CBMif2h0dHBzO...</td>\n",
       "    </tr>\n",
       "    <tr>\n",
       "      <th>9</th>\n",
       "      <td>GoAir appoints Sanjiv Kapoor as advisor</td>\n",
       "      <td>https://news.google.com/articles/CAIiELgKGRztv...</td>\n",
       "    </tr>\n",
       "    <tr>\n",
       "      <th>10</th>\n",
       "      <td>RBI extends restrictions on PMC Bank for three...</td>\n",
       "      <td>https://news.google.com/articles/CAIiEG7T1_E8c...</td>\n",
       "    </tr>\n",
       "  </tbody>\n",
       "</table>\n",
       "</div>"
      ],
      "text/plain": [
       "                                             Headline  \\\n",
       "1   Government approves a package of Rs 13,760 cro...   \n",
       "2   Union Cabinet Approves Three Schemes To Enable...   \n",
       "3   Cabinet approves schemes to boost electronics ...   \n",
       "4   Cabinet approves scheme to make India electron...   \n",
       "5   Govt announces incentive for electronics to ma...   \n",
       "6       Former Vistara CSCO Sanjiv Kapoor joins GoAir   \n",
       "7   Coronavirus Impact: GoAir senior management to...   \n",
       "8   Coronavirus impact: GoAir announces 50% pay cu...   \n",
       "9             GoAir appoints Sanjiv Kapoor as advisor   \n",
       "10  RBI extends restrictions on PMC Bank for three...   \n",
       "\n",
       "                                                  URL  \n",
       "1   https://news.google.com/articles/CAIiEE-KNB5sl...  \n",
       "2   https://news.google.com/articles/CAIiENxdjwu_0...  \n",
       "3   https://news.google.com/articles/CAIiEKfHD6NvC...  \n",
       "4   https://news.google.com/articles/CBMiemh0dHBzO...  \n",
       "5   https://news.google.com/articles/CAIiEOGS0cGin...  \n",
       "6   https://news.google.com/articles/CAIiENmANklaX...  \n",
       "7   https://news.google.com/articles/CBMipwFodHRwc...  \n",
       "8   https://news.google.com/articles/CBMif2h0dHBzO...  \n",
       "9   https://news.google.com/articles/CAIiELgKGRztv...  \n",
       "10  https://news.google.com/articles/CAIiEG7T1_E8c...  "
      ]
     },
     "execution_count": 8,
     "metadata": {},
     "output_type": "execute_result"
    }
   ],
   "source": [
    "index = [i+1 for i in range(len(news_data))]\n",
    "pd_news = pd.DataFrame(news_data, columns = ['Headline', 'URL'], index = index)\n",
    "dfStyler = pd_news.style.set_properties(**{'text-align': 'left'})\n",
    "dfStyler.set_table_styles([dict(selector='th', props=[('text-align', 'left')])])\n",
    "pd_news.head(10)"
   ]
  },
  {
   "cell_type": "markdown",
   "metadata": {},
   "source": [
    "### Function to search query in the news"
   ]
  },
  {
   "cell_type": "code",
   "execution_count": 9,
   "metadata": {},
   "outputs": [],
   "source": [
    "def search_query(query):  \n",
    "    matched_news = list()  # An Empty list\n",
    "    for news in news_data:\n",
    "        if(query in news[0]):\n",
    "            matched_news.append(news)\n",
    "    if(len(matched_news) == 0):\n",
    "        print('No news found related to '+query+'!')\n",
    "    else:\n",
    "        print('These are the news related to '+ query+':')\n",
    "        for news in matched_news:\n",
    "            print('Headline : '+news[0])\n",
    "            print('URL : '+news[1])\n",
    "            print('*'*100)"
   ]
  },
  {
   "cell_type": "code",
   "execution_count": 10,
   "metadata": {},
   "outputs": [
    {
     "name": "stdout",
     "output_type": "stream",
     "text": [
      "These are the news related to GoAir:\n",
      "Headline : Former Vistara CSCO Sanjiv Kapoor joins GoAir\n",
      "URL : https://news.google.com/articles/CAIiENmANklaXSs8q9ygAupfbwIqGQgEKhAIACoHCAowlbCPCzCrzaIDMOjUrgY?hl=en-IN&gl=IN&ceid=IN%3Aen\n",
      "****************************************************************************************************\n",
      "Headline : Coronavirus Impact: GoAir senior management to take 50% pay cut\n",
      "URL : https://news.google.com/articles/CBMipwFodHRwczovL2Vjb25vbWljdGltZXMuaW5kaWF0aW1lcy5jb20vaW5kdXN0cnkvdHJhbnNwb3J0YXRpb24vYWlybGluZXMtLy1hdmlhdGlvbi9jb3JvbmF2aXJ1cy1pbXBhY3QtZ29haXItc2VuaW9yLW1hbmFnZW1lbnQtdG8tdGFrZS01MC1wYXktY3V0L2FydGljbGVzaG93Lzc0NzUyMzk4LmNtc9IBogFodHRwczovL20uZWNvbm9taWN0aW1lcy5jb20vaW5kdXN0cnkvdHJhbnNwb3J0YXRpb24vYWlybGluZXMtLy1hdmlhdGlvbi9jb3JvbmF2aXJ1cy1pbXBhY3QtZ29haXItc2VuaW9yLW1hbmFnZW1lbnQtdG8tdGFrZS01MC1wYXktY3V0L2FtcF9hcnRpY2xlc2hvdy83NDc1MjM5OC5jbXM?hl=en-IN&gl=IN&ceid=IN%3Aen\n",
      "****************************************************************************************************\n",
      "Headline : Coronavirus impact: GoAir announces 50% pay cut for its top employees\n",
      "URL : https://news.google.com/articles/CBMif2h0dHBzOi8vd3d3LmxpdmVtaW50LmNvbS9jb21wYW5pZXMvbmV3cy9jb3JvbmF2aXJ1cy1pbXBhY3QtZ29haXItYW5ub3VuY2VzLTUwLXBheS1jdXQtZm9yLWl0cy10b3AtZW1wbG95ZWVzLTExNTg0ODEyMTI4OTMyLmh0bWzSAYMBaHR0cHM6Ly93d3cubGl2ZW1pbnQuY29tL2NvbXBhbmllcy9uZXdzL2Nvcm9uYXZpcnVzLWltcGFjdC1nb2Fpci1hbm5vdW5jZXMtNTAtcGF5LWN1dC1mb3ItaXRzLXRvcC1lbXBsb3llZXMvYW1wLTExNTg0ODEyMTI4OTMyLmh0bWw?hl=en-IN&gl=IN&ceid=IN%3Aen\n",
      "****************************************************************************************************\n",
      "Headline : GoAir appoints Sanjiv Kapoor as advisor\n",
      "URL : https://news.google.com/articles/CAIiELgKGRztvBM8nlL6ZyVd77cqGQgEKhAIACoHCAow2pqGCzD954MDMM_yigY?hl=en-IN&gl=IN&ceid=IN%3Aen\n",
      "****************************************************************************************************\n"
     ]
    }
   ],
   "source": [
    "search_query('GoAir')"
   ]
  }
 ],
 "metadata": {
  "kernelspec": {
   "display_name": "Python 3",
   "language": "python",
   "name": "python3"
  },
  "language_info": {
   "codemirror_mode": {
    "name": "ipython",
    "version": 3
   },
   "file_extension": ".py",
   "mimetype": "text/x-python",
   "name": "python",
   "nbconvert_exporter": "python",
   "pygments_lexer": "ipython3",
   "version": "3.7.3"
  }
 },
 "nbformat": 4,
 "nbformat_minor": 2
}
