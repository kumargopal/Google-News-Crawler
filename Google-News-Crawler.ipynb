{
 "cells": [
  {
   "cell_type": "markdown",
   "metadata": {},
   "source": [
    "# Google News Crawler\n",
    "\n",
    "Crawls news from https://news.google.com/topics/CAAqJggKIiBDQkFTRWdvSUwyMHZNRGx6TVdZU0FtVnVHZ0pKVGlnQVAB?hl=en-IN&gl=IN&ceid=IN%3Aen"
   ]
  },
  {
   "cell_type": "markdown",
   "metadata": {},
   "source": [
    "Importing dependencies"
   ]
  },
  {
   "cell_type": "code",
   "execution_count": 1,
   "metadata": {},
   "outputs": [],
   "source": [
    "import urllib.request as request\n",
    "from bs4 import BeautifulSoup\n",
    "import pandas as pd"
   ]
  },
  {
   "cell_type": "markdown",
   "metadata": {},
   "source": [
    "Here, base_url is for concatenating to the partial url from google news page and making the url complete.\n",
    "And target_url is the url of the page, we are going to scrape"
   ]
  },
  {
   "cell_type": "code",
   "execution_count": 2,
   "metadata": {},
   "outputs": [],
   "source": [
    "base_url = 'https://news.google.com'\n",
    "target_url = \"https://news.google.com/topics/CAAqJggKIiBDQkFTRWdvSUwyMHZNRGx6TVdZU0FtVnVHZ0pKVGlnQVAB?hl=en-IN&gl=IN&ceid=IN%3Aen\""
   ]
  },
  {
   "cell_type": "markdown",
   "metadata": {},
   "source": [
    "Sending a get request to the server and checking the status code if that worked perfect\n",
    "As the response code is 200, our request is successful"
   ]
  },
  {
   "cell_type": "code",
   "execution_count": 3,
   "metadata": {},
   "outputs": [
    {
     "name": "stdout",
     "output_type": "stream",
     "text": [
      "Response Code : 200\n"
     ]
    }
   ],
   "source": [
    "response = request.Request(target_url,headers={'User-Agent': 'Mozilla/5.0'})\n",
    "content_obj = request.urlopen(response)\n",
    "print('Response Code :',content_obj.getcode())"
   ]
  },
  {
   "cell_type": "markdown",
   "metadata": {},
   "source": [
    "Grabing HTML content from request object and let's have a look at the first 500 characters from HTML"
   ]
  },
  {
   "cell_type": "code",
   "execution_count": 4,
   "metadata": {},
   "outputs": [
    {
     "name": "stdout",
     "output_type": "stream",
     "text": [
      "b'<!doctype html><html lang=\"en\" dir=\"ltr\"><head><base href=\"https://news.google.com/\"><meta name=\"referrer\" content=\"origin\"><link rel=\"canonical\" href=\"https://news.google.com/topics/CAAqJggKIiBDQkFTRWdvSUwyMHZNRGx6TVdZU0FtVnVHZ0pKVGlnQVAB\"><meta name=\"viewport\" content=\"width=device-width,initial-scale=1,minimal-ui\"><meta name=\"apple-itunes-app\" content=\"app-id=459182288\"><meta name=\"google-site-verification\" content=\"AcBy5YFny2HQgVUCR18tO5YUTf6MpVlcJqGTd-a9-SI\"><meta name=\"mobile-web-app-capab'\n"
     ]
    }
   ],
   "source": [
    "html_content = content_obj.read()\n",
    "print(html_content[:500])"
   ]
  },
  {
   "cell_type": "markdown",
   "metadata": {},
   "source": [
    "Converting the HTML content to a BeautifulSoup object to parse elements"
   ]
  },
  {
   "cell_type": "code",
   "execution_count": 5,
   "metadata": {},
   "outputs": [],
   "source": [
    "soup_html_content = BeautifulSoup(html_content,features=\"lxml\")"
   ]
  },
  {
   "cell_type": "markdown",
   "metadata": {},
   "source": [
    "In the HTML layout of the page class 'Vlf0vb' from div 'c-wiz' is for containing all the news so let's just grab that, it will make parsing easier.\n",
    "And every h3 and h4 tag under class 'ipQwMb ekueJc gEATFF RD0gLb' is containg the information of all the main news and subnews so let's grab the elements"
   ]
  },
  {
   "cell_type": "code",
   "execution_count": 6,
   "metadata": {},
   "outputs": [],
   "source": [
    "news_wrapper = soup_html_content.find('c-wiz', class_ ='Vlf0vb')\n",
    "all_news = news_wrapper.find_all(['h3','h4'], class_ = 'ipQwMb ekueJc gEATFF RD0gLb') # h3 for main news and h4 for sub-news"
   ]
  },
  {
   "cell_type": "markdown",
   "metadata": {},
   "source": [
    "Lets iterate through all the news element and grab all the Headlines and URLs and store them into news_data list"
   ]
  },
  {
   "cell_type": "code",
   "execution_count": 7,
   "metadata": {},
   "outputs": [],
   "source": [
    "news_data = list() # An Empty list\n",
    "for news in all_news:\n",
    "    news_url_tag = news.find('a')\n",
    "    news_headline = news_url_tag.text\n",
    "    news_url = (base_url + news_url_tag.get('href').replace('.',''))\n",
    "    news_data.append([news_headline,news_url])"
   ]
  },
  {
   "cell_type": "markdown",
   "metadata": {},
   "source": [
    "Let's have a look at first 20 news from the page"
   ]
  },
  {
   "cell_type": "code",
   "execution_count": 8,
   "metadata": {},
   "outputs": [
    {
     "data": {
      "text/html": [
       "<div>\n",
       "<style scoped>\n",
       "    .dataframe tbody tr th:only-of-type {\n",
       "        vertical-align: middle;\n",
       "    }\n",
       "\n",
       "    .dataframe tbody tr th {\n",
       "        vertical-align: top;\n",
       "    }\n",
       "\n",
       "    .dataframe thead th {\n",
       "        text-align: right;\n",
       "    }\n",
       "</style>\n",
       "<table border=\"1\" class=\"dataframe\">\n",
       "  <thead>\n",
       "    <tr style=\"text-align: right;\">\n",
       "      <th></th>\n",
       "      <th>Headline</th>\n",
       "      <th>URL</th>\n",
       "    </tr>\n",
       "  </thead>\n",
       "  <tbody>\n",
       "    <tr>\n",
       "      <th>1</th>\n",
       "      <td>Maruti Suzuki, Hero, Tata, Bajaj Announces Pla...</td>\n",
       "      <td>https://news.google.com/articles/CBMiXWh0dHBzO...</td>\n",
       "    </tr>\n",
       "    <tr>\n",
       "      <th>2</th>\n",
       "      <td>Maruti Suzuki suspends production at Gurgaon, ...</td>\n",
       "      <td>https://news.google.com/articles/CBMiigFodHRwc...</td>\n",
       "    </tr>\n",
       "    <tr>\n",
       "      <th>3</th>\n",
       "      <td>Coronavirus Pandemic: Maruti Suzuki Halts Vehi...</td>\n",
       "      <td>https://news.google.com/articles/CAIiEKPD8Dxuo...</td>\n",
       "    </tr>\n",
       "    <tr>\n",
       "      <th>4</th>\n",
       "      <td>Coronavirus impact: Maruti Suzuki suspends pro...</td>\n",
       "      <td>https://news.google.com/articles/CAIiEKqaOcgoW...</td>\n",
       "    </tr>\n",
       "    <tr>\n",
       "      <th>5</th>\n",
       "      <td>Coronavirus | Maruti Suzuki suspends productio...</td>\n",
       "      <td>https://news.google.com/articles/CAIiECtmqQTaR...</td>\n",
       "    </tr>\n",
       "    <tr>\n",
       "      <th>6</th>\n",
       "      <td>Banks Should Declare 1-Year Moratorium on All ...</td>\n",
       "      <td>https://news.google.com/articles/CAIiEMmF_bYW8...</td>\n",
       "    </tr>\n",
       "    <tr>\n",
       "      <th>7</th>\n",
       "      <td>Hero MotoCorp halts production at all plants w...</td>\n",
       "      <td>https://news.google.com/articles/CBMingFodHRwc...</td>\n",
       "    </tr>\n",
       "    <tr>\n",
       "      <th>8</th>\n",
       "      <td>Hero MotoCorp shuts down all plants globally a...</td>\n",
       "      <td>https://news.google.com/articles/CBMie2h0dHBzO...</td>\n",
       "    </tr>\n",
       "    <tr>\n",
       "      <th>9</th>\n",
       "      <td>Coronavirus impact: Hero MotoCorp, Fiat, Tata ...</td>\n",
       "      <td>https://news.google.com/articles/CAIiEP0M21Wuv...</td>\n",
       "    </tr>\n",
       "    <tr>\n",
       "      <th>10</th>\n",
       "      <td>Hero MotoCorp To Advance Payments During COVID...</td>\n",
       "      <td>https://news.google.com/articles/CAIiEGxUQbEmM...</td>\n",
       "    </tr>\n",
       "    <tr>\n",
       "      <th>11</th>\n",
       "      <td>Hero MotoCorp Halts Vehicle Production Globall...</td>\n",
       "      <td>https://news.google.com/articles/CAIiEHBU2uR_D...</td>\n",
       "    </tr>\n",
       "    <tr>\n",
       "      <th>12</th>\n",
       "      <td>Is global recession likely in 2020?..</td>\n",
       "      <td>https://news.google.com/articles/CBMiX2h0dHBzO...</td>\n",
       "    </tr>\n",
       "    <tr>\n",
       "      <th>13</th>\n",
       "      <td>Equity Markets To Stay Under Pressure As Coron...</td>\n",
       "      <td>https://news.google.com/articles/CAIiEDAW7m4Gb...</td>\n",
       "    </tr>\n",
       "    <tr>\n",
       "      <th>14</th>\n",
       "      <td>Is global recession likely in 2020?</td>\n",
       "      <td>https://news.google.com/articles/CBMiPWh0dHBzO...</td>\n",
       "    </tr>\n",
       "    <tr>\n",
       "      <th>15</th>\n",
       "      <td>Indian equities to be under pressure as COVID-...</td>\n",
       "      <td>https://news.google.com/articles/CBMiZGh0dHBzO...</td>\n",
       "    </tr>\n",
       "    <tr>\n",
       "      <th>16</th>\n",
       "      <td>Coronavirus Pandemic | GoAir announces 50% sal...</td>\n",
       "      <td>https://news.google.com/articles/CAIiEPWOAM2vB...</td>\n",
       "    </tr>\n",
       "    <tr>\n",
       "      <th>17</th>\n",
       "      <td>Coronavirus Effect: GoAir Announces 50 per cen...</td>\n",
       "      <td>https://news.google.com/articles/CBMifmh0dHBzO...</td>\n",
       "    </tr>\n",
       "    <tr>\n",
       "      <th>18</th>\n",
       "      <td>COVID-19 impact: GoAir announces 50% pay cut f...</td>\n",
       "      <td>https://news.google.com/articles/CAIiEM8w2PtHL...</td>\n",
       "    </tr>\n",
       "    <tr>\n",
       "      <th>19</th>\n",
       "      <td>Coronavirus Impact: GoAir senior management to...</td>\n",
       "      <td>https://news.google.com/articles/CBMipwFodHRwc...</td>\n",
       "    </tr>\n",
       "    <tr>\n",
       "      <th>20</th>\n",
       "      <td>GoAir appoints aviation sector veteran Sanjiv ...</td>\n",
       "      <td>https://news.google.com/articles/CAIiEGI9eZ3Wc...</td>\n",
       "    </tr>\n",
       "  </tbody>\n",
       "</table>\n",
       "</div>"
      ],
      "text/plain": [
       "                                             Headline  \\\n",
       "1   Maruti Suzuki, Hero, Tata, Bajaj Announces Pla...   \n",
       "2   Maruti Suzuki suspends production at Gurgaon, ...   \n",
       "3   Coronavirus Pandemic: Maruti Suzuki Halts Vehi...   \n",
       "4   Coronavirus impact: Maruti Suzuki suspends pro...   \n",
       "5   Coronavirus | Maruti Suzuki suspends productio...   \n",
       "6   Banks Should Declare 1-Year Moratorium on All ...   \n",
       "7   Hero MotoCorp halts production at all plants w...   \n",
       "8   Hero MotoCorp shuts down all plants globally a...   \n",
       "9   Coronavirus impact: Hero MotoCorp, Fiat, Tata ...   \n",
       "10  Hero MotoCorp To Advance Payments During COVID...   \n",
       "11  Hero MotoCorp Halts Vehicle Production Globall...   \n",
       "12              Is global recession likely in 2020?..   \n",
       "13  Equity Markets To Stay Under Pressure As Coron...   \n",
       "14                Is global recession likely in 2020?   \n",
       "15  Indian equities to be under pressure as COVID-...   \n",
       "16  Coronavirus Pandemic | GoAir announces 50% sal...   \n",
       "17  Coronavirus Effect: GoAir Announces 50 per cen...   \n",
       "18  COVID-19 impact: GoAir announces 50% pay cut f...   \n",
       "19  Coronavirus Impact: GoAir senior management to...   \n",
       "20  GoAir appoints aviation sector veteran Sanjiv ...   \n",
       "\n",
       "                                                  URL  \n",
       "1   https://news.google.com/articles/CBMiXWh0dHBzO...  \n",
       "2   https://news.google.com/articles/CBMiigFodHRwc...  \n",
       "3   https://news.google.com/articles/CAIiEKPD8Dxuo...  \n",
       "4   https://news.google.com/articles/CAIiEKqaOcgoW...  \n",
       "5   https://news.google.com/articles/CAIiECtmqQTaR...  \n",
       "6   https://news.google.com/articles/CAIiEMmF_bYW8...  \n",
       "7   https://news.google.com/articles/CBMingFodHRwc...  \n",
       "8   https://news.google.com/articles/CBMie2h0dHBzO...  \n",
       "9   https://news.google.com/articles/CAIiEP0M21Wuv...  \n",
       "10  https://news.google.com/articles/CAIiEGxUQbEmM...  \n",
       "11  https://news.google.com/articles/CAIiEHBU2uR_D...  \n",
       "12  https://news.google.com/articles/CBMiX2h0dHBzO...  \n",
       "13  https://news.google.com/articles/CAIiEDAW7m4Gb...  \n",
       "14  https://news.google.com/articles/CBMiPWh0dHBzO...  \n",
       "15  https://news.google.com/articles/CBMiZGh0dHBzO...  \n",
       "16  https://news.google.com/articles/CAIiEPWOAM2vB...  \n",
       "17  https://news.google.com/articles/CBMifmh0dHBzO...  \n",
       "18  https://news.google.com/articles/CAIiEM8w2PtHL...  \n",
       "19  https://news.google.com/articles/CBMipwFodHRwc...  \n",
       "20  https://news.google.com/articles/CAIiEGI9eZ3Wc...  "
      ]
     },
     "execution_count": 8,
     "metadata": {},
     "output_type": "execute_result"
    }
   ],
   "source": [
    "index = [i+1 for i in range(len(news_data))]\n",
    "pd_news = pd.DataFrame(news_data, columns = ['Headline', 'URL'], index = index)\n",
    "dfStyler = pd_news.style.set_properties(**{'text-align': 'left'})\n",
    "dfStyler.set_table_styles([dict(selector='th', props=[('text-align', 'left')])])\n",
    "pd_news.head(20)"
   ]
  },
  {
   "cell_type": "markdown",
   "metadata": {},
   "source": [
    "Function to search query in the news"
   ]
  },
  {
   "cell_type": "code",
   "execution_count": 9,
   "metadata": {},
   "outputs": [],
   "source": [
    "def search_query(query):  \n",
    "    matched_news = list()  # An Empty list\n",
    "    for news in news_data:\n",
    "        if(query in news[0]):\n",
    "            matched_news.append(news)\n",
    "    if(len(matched_news) == 0):\n",
    "        print('No news found related to '+query+'!')\n",
    "    else:\n",
    "        print('These are the news related to '+ query+':\\n')\n",
    "        for news in matched_news:\n",
    "            print('Headline : '+news[0])\n",
    "            print('URL : '+news[1])\n",
    "            print('*'*100)\n",
    "            print()"
   ]
  },
  {
   "cell_type": "markdown",
   "metadata": {},
   "source": [
    "Let's try to call the search_query function"
   ]
  },
  {
   "cell_type": "code",
   "execution_count": 10,
   "metadata": {},
   "outputs": [
    {
     "name": "stdout",
     "output_type": "stream",
     "text": [
      "These are the news related to GoAir:\n",
      "\n",
      "Headline : Coronavirus Pandemic | GoAir announces 50% salary cut for top management\n",
      "URL : https://news.google.com/articles/CAIiEPWOAM2vB6VvRUJkRfW0Tf4qGQgEKhAIACoHCAowlbCPCzCrzaIDMOjUrgY?hl=en-IN&gl=IN&ceid=IN%3Aen\n",
      "****************************************************************************************************\n",
      "\n",
      "Headline : Coronavirus Effect: GoAir Announces 50 per cent Pay Cut for its Top Employees\n",
      "URL : https://news.google.com/articles/CBMifmh0dHBzOi8vd3d3Lm5ld3MxOC5jb20vbmV3cy9idXNpbmVzcy9jb3JvbmF2aXJ1cy1lZmZlY3QtZ29haXItYW5ub3VuY2VzLTUwLXBlci1jZW50LXBheS1jdXQtZm9yLWl0cy10b3AtZW1wbG95ZWVzLTI1NDU5ODEuaHRtbNIBggFodHRwczovL3d3dy5uZXdzMTguY29tL2FtcC9uZXdzL2J1c2luZXNzL2Nvcm9uYXZpcnVzLWVmZmVjdC1nb2Fpci1hbm5vdW5jZXMtNTAtcGVyLWNlbnQtcGF5LWN1dC1mb3ItaXRzLXRvcC1lbXBsb3llZXMtMjU0NTk4MS5odG1s?hl=en-IN&gl=IN&ceid=IN%3Aen\n",
      "****************************************************************************************************\n",
      "\n",
      "Headline : COVID-19 impact: GoAir announces 50% pay cut for its top leaders\n",
      "URL : https://news.google.com/articles/CAIiEM8w2PtHLcl1pJDD-gCtVxwqGQgEKhAIACoHCAowouTcCjDl8M4BMNzVhgI?hl=en-IN&gl=IN&ceid=IN%3Aen\n",
      "****************************************************************************************************\n",
      "\n",
      "Headline : Coronavirus Impact: GoAir senior management to take 50% pay cut\n",
      "URL : https://news.google.com/articles/CBMipwFodHRwczovL2Vjb25vbWljdGltZXMuaW5kaWF0aW1lcy5jb20vaW5kdXN0cnkvdHJhbnNwb3J0YXRpb24vYWlybGluZXMtLy1hdmlhdGlvbi9jb3JvbmF2aXJ1cy1pbXBhY3QtZ29haXItc2VuaW9yLW1hbmFnZW1lbnQtdG8tdGFrZS01MC1wYXktY3V0L2FydGljbGVzaG93Lzc0NzUyMzk4LmNtc9IBogFodHRwczovL20uZWNvbm9taWN0aW1lcy5jb20vaW5kdXN0cnkvdHJhbnNwb3J0YXRpb24vYWlybGluZXMtLy1hdmlhdGlvbi9jb3JvbmF2aXJ1cy1pbXBhY3QtZ29haXItc2VuaW9yLW1hbmFnZW1lbnQtdG8tdGFrZS01MC1wYXktY3V0L2FtcF9hcnRpY2xlc2hvdy83NDc1MjM5OC5jbXM?hl=en-IN&gl=IN&ceid=IN%3Aen\n",
      "****************************************************************************************************\n",
      "\n",
      "Headline : GoAir appoints aviation sector veteran Sanjiv Kapoor as its advisor\n",
      "URL : https://news.google.com/articles/CAIiEGI9eZ3WcDsgcsx9RKhS0ScqGQgEKhAIACoHCAowsLXdCjCm3dEBMNS-swY?hl=en-IN&gl=IN&ceid=IN%3Aen\n",
      "****************************************************************************************************\n",
      "\n",
      "Headline : IndiGo, GoAir to cancel close to 1,000 flights on Sunday\n",
      "URL : https://news.google.com/articles/CBMiqgFodHRwczovL2Vjb25vbWljdGltZXMuaW5kaWF0aW1lcy5jb20vaW5kdXN0cnkvdHJhbnNwb3J0YXRpb24vYWlybGluZXMtLy1hdmlhdGlvbi9pbmRpZ28tZ29haXItdG8tY2FuY2VsLW1vcmUtdGhhbi0xMDAwLWRvbWVzdGljLWZsaWdodHMtb24tc3VuZGF5L2FydGljbGVzaG93Lzc0NzM4NDA4LmNtc9IBpQFodHRwczovL20uZWNvbm9taWN0aW1lcy5jb20vaW5kdXN0cnkvdHJhbnNwb3J0YXRpb24vYWlybGluZXMtLy1hdmlhdGlvbi9pbmRpZ28tZ29haXItdG8tY2FuY2VsLW1vcmUtdGhhbi0xMDAwLWRvbWVzdGljLWZsaWdodHMtb24tc3VuZGF5L2FtcF9hcnRpY2xlc2hvdy83NDczODQwOC5jbXM?hl=en-IN&gl=IN&ceid=IN%3Aen\n",
      "****************************************************************************************************\n",
      "\n"
     ]
    }
   ],
   "source": [
    "search_query('GoAir')"
   ]
  },
  {
   "cell_type": "markdown",
   "metadata": {},
   "source": [
    "Completed!"
   ]
  }
 ],
 "metadata": {
  "kernelspec": {
   "display_name": "Python 3",
   "language": "python",
   "name": "python3"
  },
  "language_info": {
   "codemirror_mode": {
    "name": "ipython",
    "version": 3
   },
   "file_extension": ".py",
   "mimetype": "text/x-python",
   "name": "python",
   "nbconvert_exporter": "python",
   "pygments_lexer": "ipython3",
   "version": "3.7.3"
  }
 },
 "nbformat": 4,
 "nbformat_minor": 2
}
